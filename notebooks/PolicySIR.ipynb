{
 "cells": [
  {
   "cell_type": "markdown",
   "metadata": {},
   "source": [
    "# Calculating $R_0$ for a SIR model...and beyond\n",
    "\n",
    "Here we discuss some expanded SIR models and we look at the desirability and efficacy of certain types of policy interventions. First, we have $R_0$ as the so-called basic reproductive rate. I am following [some online notes](https://web.stanford.edu/~jhj1/teachingdocs/Jones-on-R0.pdf) which must be great because they are from Stanford. \n",
    "\n",
    "Some questions:\n",
    "\n",
    "- What impact does reducing $R_0$ have? \n",
    "- What measures reduce $R$?\n",
    "- What costs are imposed on society by these measures?\n",
    "\n",
    "What is $R_0$, intuitively?\n",
    "\n",
    "$$\n",
    "R_0 = \\frac{\\textrm{infection}}{\\textrm{contact}}\\frac{\\textrm{contact}}{\\textrm{time}}\\frac{\\textrm{time}}{\\textrm{infection}}\n",
    "$$"
   ]
  },
  {
   "cell_type": "markdown",
   "metadata": {},
   "source": [
    "In the SIR model, we have:\n",
    "\n",
    "$$\n",
    "\\begin{array}{ccc}\n",
    "\\dot{s} & = & - \\beta i s\\\\\n",
    "\\dot{i} & = &  \\beta i s - \\nu i \\\\\n",
    "\\dot{r} & = & \\nu i\n",
    "\\end{array}\n",
    "$$"
   ]
  },
  {
   "cell_type": "markdown",
   "metadata": {},
   "source": [
    "To calculate $R_0$ in a way that is more amenable to policy (at least as economics think about it), it is helpful to think about the above in terms of a discrete time framework, and in terms of the so-called _next-generation matrix_. \n",
    "\n",
    "$\\mathbf{G}$. Generically\n",
    "\n",
    "$$\n",
    "\\frac{\\dot{i}}{{i}}=\\beta s- \\nu\n",
    "$$\n",
    "\n"
   ]
  },
  {
   "cell_type": "markdown",
   "metadata": {},
   "source": [
    "Another tidbit - minimize the number of people that are infected in the end...or minimize some weighted average of what is called $s_\\infty$ or $d$. We can write these two things as functions of $R_0$. \n",
    "\n",
    "Some add-on questions:\n",
    "\n",
    "- what if we are late to the party? \n",
    "- what technological measures can we use to do all of this? "
   ]
  },
  {
   "cell_type": "code",
   "execution_count": 1,
   "metadata": {},
   "outputs": [],
   "source": [
    "from sympy import *"
   ]
  },
  {
   "cell_type": "markdown",
   "metadata": {},
   "source": [
    "Let's look at the SEIM model, where we have four equations:\n",
    "\n",
    "$$\n",
    "\\begin{array}{ccc}\n",
    "\\dot{s} & = & - \\beta i s\\\\\n",
    "\\dot{i} & = &  \\beta i s - \\nu i \\\\\n",
    "\\dot{r} & = & \\nu i\n",
    "\\end{array}\n",
    "$$"
   ]
  },
  {
   "cell_type": "markdown",
   "metadata": {},
   "source": [
    "What does the model look like in discrete time? \n",
    "\n",
    "It would be :\n",
    "\n",
    "$$\n",
    "\\begin{array}{ccc}\n",
    "s_{t+1} & = & s_t- \\beta i_t s_t\\\\\n",
    "i_{t+1} & = & i_t +\\beta i_t s_t - \\nu i_t \\\\\n",
    "r_{t+1} & = & r_t+\\nu i_t\n",
    "\\end{array}\n",
    "$$"
   ]
  },
  {
   "cell_type": "markdown",
   "metadata": {},
   "source": [
    "So, note that we can write this as a transition matrix equation:\n",
    "\n",
    "$$\n",
    "\\left[\n",
    "\\begin{array}{c}\n",
    "s_{t+1} \\\\\n",
    "i_{t+1} \\\\\n",
    "r_{t+1}\n",
    "\\end{array}\n",
    "\\right]\n",
    "=\\left[\n",
    "\\begin{array}{ccc}\n",
    "1 & -\\beta s_t & 0 \\\\\n",
    "\\beta i_t & 1-\\nu & 0 \\\\\n",
    "0 & \\nu & 1\n",
    "\\end{array}\n",
    "\\right]\n",
    "\\left[\n",
    "\\begin{array}{c}\n",
    "s_{t} \\\\\n",
    "i_{t} \\\\\n",
    "r_{t}\n",
    "\\end{array}\n",
    "\\right]\n",
    "$$"
   ]
  },
  {
   "cell_type": "markdown",
   "metadata": {},
   "source": [
    "First, let's develop a little simulator of the system. In this case, we have:"
   ]
  },
  {
   "cell_type": "code",
   "execution_count": 2,
   "metadata": {},
   "outputs": [],
   "source": [
    "import numpy as np\n",
    "\n",
    "import matplotlib.pyplot as plt\n",
    "\n",
    "def sirmodel(s0=.99, i0=.01, r0 =0, beta=.1, nu=.03, its=1000, tol=.005):\n",
    "    \n",
    "    '''Simulation of the SIR model. The model stops running when the number of infecteds \n",
    "       falls below tolerance or when the maximum iterations are reached.\n",
    "       Tolerance must be less than i0 or the model will never \n",
    "       get going.'''\n",
    "    \n",
    "    S = []\n",
    "    I = []\n",
    "    R = []\n",
    "    \n",
    "    s = s0\n",
    "    i = i0\n",
    "    r = r0\n",
    "    \n",
    "    t=0\n",
    " \n",
    "    while t<its and i> tol: \n",
    "        \n",
    "        sp = s - beta*s*i\n",
    "        ip = i + beta*s*i - nu*i\n",
    "        rp = r + nu*i\n",
    "        \n",
    "        S.append(sp)\n",
    "        I.append(ip)\n",
    "        R.append(rp)\n",
    "        \n",
    "        s = sp\n",
    "        i = ip\n",
    "        r = rp\n",
    "        \n",
    "        t += 1\n",
    "        \n",
    "    return({'s':S, 'i':I, 'r':R})  "
   ]
  },
  {
   "cell_type": "code",
   "execution_count": 3,
   "metadata": {},
   "outputs": [
    {
     "data": {
      "image/png": "[encoded data removed]",
      "text/plain": [
       "<Figure size 432x288 with 1 Axes>"
      ]
     },
     "metadata": {
      "needs_background": "light"
     },
     "output_type": "display_data"
    }
   ],
   "source": [
    "sim = sirmodel()\n",
    "xs  = np.arange(len(sim['s']))\n",
    "\n",
    "sline = plt.plot(xs, sim['s'])\n",
    "rline = plt.plot(xs, sim['r'])\n",
    "iline = plt.plot(xs, sim['i'])\n",
    "\n",
    "legen = plt.legend(['Susceptible', 'Recovered', 'Infected'])"
   ]
  },
  {
   "cell_type": "markdown",
   "metadata": {},
   "source": [
    "What does the model look like with my modification using the minimum function?"
   ]
  },
  {
   "cell_type": "code",
   "execution_count": 4,
   "metadata": {},
   "outputs": [],
   "source": [
    "import numpy as np\n",
    "\n",
    "import matplotlib.pyplot as plt\n",
    "\n",
    "def sirmodel_min(s0=.99, i0=.01, r0 =0, beta=.1, nu=.03, its=1000, tol=.005):\n",
    "    \n",
    "    '''Simulation of the SIR model. The model stops running when the number of infecteds \n",
    "       falls below tolerance or when the maximum iterations are reached.\n",
    "       Tolerance must be less than i0 or the model will never \n",
    "       get going.'''\n",
    "    \n",
    "    S = []\n",
    "    I = []\n",
    "    R = []\n",
    "    \n",
    "    s = s0\n",
    "    i = i0\n",
    "    r = r0\n",
    "    \n",
    "    t=0\n",
    " \n",
    "    while t<its and i> tol: \n",
    "        \n",
    "        sp = s - beta*min((s,i))\n",
    "        ip = i + beta*min((s,i)) - nu*i\n",
    "        rp = r + nu*i\n",
    "        \n",
    "        S.append(sp)\n",
    "        I.append(ip)\n",
    "        R.append(rp)\n",
    "        \n",
    "        s = sp\n",
    "        i = ip\n",
    "        r = rp\n",
    "        \n",
    "        t += 1\n",
    "        \n",
    "    return({'s':S, 'i':I, 'r':R})  "
   ]
  },
  {
   "cell_type": "code",
   "execution_count": 5,
   "metadata": {},
   "outputs": [
    {
     "data": {
      "image/png": "[encoded data removed]",
      "text/plain": [
       "<Figure size 432x288 with 1 Axes>"
      ]
     },
     "metadata": {
      "needs_background": "light"
     },
     "output_type": "display_data"
    }
   ],
   "source": [
    "sim = sirmodel_min()\n",
    "xs  = np.arange(len(sim['s']))\n",
    "\n",
    "sline = plt.plot(xs, sim['s'])\n",
    "rline = plt.plot(xs, sim['r'])\n",
    "iline = plt.plot(xs, sim['i'])\n",
    "\n",
    "legen = plt.legend(['Susceptible', 'Recovered', 'Infected'])"
   ]
  },
  {
   "cell_type": "markdown",
   "metadata": {},
   "source": [
    "With this in mind, let's note that the model has very similar behavior to the SIR model, but is actually more aggresive in the way it models outbreaks. In any event, we can consider two regimes and a variable-time free sort of model. What would control of this model look like? \n",
    "\n",
    "Controlling the outbreak:\n",
    "- We might suppose that we can reduce $\\beta$ by some amount, so that we have: $\\beta=(1-z_t)$, but also let's suppose it is not possible to reduce it too much...\n",
    "- There are costs of control, but let's suppose that actually enforcing the policy isn't all that costly. It is just social costs.\n",
    "- Then, the costs per unit time are:\n",
    "\n",
    "$$\n",
    "c_t = c_t (z_t)\n",
    "$$\n",
    "\n",
    "Note that what we would really want is for this to be something like $c_t(z_tn_t)$, but our population is normalized at unity. We also have the costs of immediate care of infecteds, which we will suppose is $d_t(i_t)$. This should certainly be quadratic and is a major motivation for everything!"
   ]
  },
  {
   "cell_type": "code",
   "execution_count": 7,
   "metadata": {},
   "outputs": [],
   "source": [
    "import numpy as np\n",
    "\n",
    "import matplotlib.pyplot as plt\n",
    "\n",
    "def sirmodel_min_pol(s0=.99, i0=.01, r0 =0, beta=.1, nu=.03, z=.1, its=1000, tol=.005):\n",
    "    \n",
    "    '''Simulation of the SIR model. The model stops running when the number of infecteds \n",
    "       falls below tolerance or when the maximum iterations are reached.\n",
    "       Tolerance must be less than i0 or the model will never \n",
    "       get going.'''\n",
    "    \n",
    "    S = []\n",
    "    I = []\n",
    "    R = []\n",
    "    \n",
    "    s = s0\n",
    "    i = i0\n",
    "    r = r0\n",
    "    \n",
    "    t=0\n",
    " \n",
    "    while t<its and i> tol: \n",
    "        \n",
    "        sp = s - beta*min((s,i))*(1-z)\n",
    "        ip = i + beta*min((s,i))*(1-z) - nu*i\n",
    "        rp = r + nu*i\n",
    "        \n",
    "        S.append(sp)\n",
    "        I.append(ip)\n",
    "        R.append(rp)\n",
    "        \n",
    "        s = sp\n",
    "        i = ip\n",
    "        r = rp\n",
    "        \n",
    "        t += 1\n",
    "        \n",
    "    return({'s':S, 'i':I, 'r':R})  "
   ]
  },
  {
   "cell_type": "code",
   "execution_count": 11,
   "metadata": {},
   "outputs": [
    {
     "data": {
      "image/png": "[encoded data removed]",
      "text/plain": [
       "<Figure size 432x288 with 1 Axes>"
      ]
     },
     "metadata": {
      "needs_background": "light"
     },
     "output_type": "display_data"
    }
   ],
   "source": [
    "sim1 = sirmodel_min()\n",
    "sim2 = sirmodel_min_pol(z=.2)\n",
    "xs1  = np.arange(len(sim1['s']))\n",
    "xs2  = np.arange(len(sim2['s']))\n",
    "\n",
    "sline  = plt.plot(xs1, sim1['s'])\n",
    "rline  = plt.plot(xs1, sim1['r'])\n",
    "iline  = plt.plot(xs1, sim1['i'])\n",
    "slinep = plt.plot(xs2, sim2['s'], linestyle='dashed')\n",
    "rlinep = plt.plot(xs2, sim2['r'], linestyle='dashed')\n",
    "ilnep  = plt.plot(xs2, sim2['i'], linestyle='dashed')\n",
    "\n",
    "legen = plt.legend(['Susceptible', 'Recovered', 'Infected', 'Susceptible', 'Recovered', 'Infected'])"
   ]
  },
  {
   "cell_type": "code",
   "execution_count": null,
   "metadata": {},
   "outputs": [],
   "source": [
    "sirmodel_policy"
   ]
  },
  {
   "cell_type": "markdown",
   "metadata": {},
   "source": [
    "# Hamiltonian:\n",
    "\n",
    "In the down-tick regime, we have, $s_t<i_t$, so:\n",
    "\n",
    "$$\n",
    "H_t = c_t(z_t)+d_t(i_t) + \\lambda_t(s_t-\\beta (1-z_t) s_t)+\\mu_t(i_t+\\beta (1-z_t) s_t-\\nu i_t)\n",
    "$$\n",
    "\n",
    "So, the optimality conditions are:\n",
    "\n",
    "$$\n",
    "c_t'(z_t) + \\lambda_t \\beta s_t - \\mu_t\\beta s_t\n",
    "$$\n",
    "\n",
    "$$\n",
    "\\lambda_t = \\lambda_t(1-\\beta(1-z_t))+\\mu_t\\beta(1-z_t)\n",
    "$$\n",
    "\n",
    "$$\n",
    "\\mu_t = d'_t(i_t) + \\mu_t(1-\\nu)\n",
    "$$"
   ]
  },
  {
   "cell_type": "markdown",
   "metadata": {},
   "source": [
    "From the second equation, we get: $\\mu_t=\\frac{d_t'(i_t)}{\\nu}$. Quite simply the shadow value of delay is the discounted recovery value. More interestingly, we have, from the second equation, $\\lambda_t=\\mu_t$. Note that when plugged into the first equation, this gives us: $c'(z_t)=0$.\n",
    "\n",
    "Question: would discounting change this? \n",
    "\n",
    "What about the other side of the coin? \n",
    "\n",
    "\n",
    "\n"
   ]
  },
  {
   "cell_type": "markdown",
   "metadata": {},
   "source": [
    "Here, the Hamiltonian is:\n",
    "\n",
    "$$\n",
    "H_t = c_t(z_t)+d_t(i_t) + \\lambda_t(s_t-\\beta (1-z_t) i_t)+\\mu_t(i_t+\\beta (1-z_t) i_t-\\nu i_t)\n",
    "$$\n",
    "\n",
    "With optimality conditions:\n",
    "\n",
    "$$\n",
    "c_t'(z_t) + \\lambda_t \\beta s_t - \\mu_t\\beta i_t\n",
    "$$\n",
    "\n",
    "$$\n",
    "\\lambda_t = \\lambda_t(1-\\beta(1-z_t))\n",
    "$$\n",
    "\n",
    "$$\n",
    "\\mu_t = d'_t(i_t) - \\lambda_t\\beta(1-z_t)+\\mu_t(1-\\nu+\\beta(1-z_t))\n",
    "$$"
   ]
  },
  {
   "cell_type": "markdown",
   "metadata": {},
   "source": [
    "My hunch is that $\\lambda_t=0$ is part of the solution; it doesn't really matter here. So, we really have a one-variable control problem. The remaining equations are:\n",
    "\n",
    "$$\n",
    "c_t'(z_t)=\\mu_t\\beta i_t\n",
    "$$\n",
    "$$\n",
    "\\mu_t = d'_t(i_t)+\\mu_t(1-\\nu+\\beta(1-z_t))\n",
    "$$"
   ]
  },
  {
   "cell_type": "markdown",
   "metadata": {},
   "source": [
    "If we solve the second equation, we have the following:\n",
    "\n",
    "$$\n",
    "\\mu_t(\\nu-\\beta(1-z_t)) = d'_t(i_t)\n",
    "$$"
   ]
  },
  {
   "cell_type": "markdown",
   "metadata": {},
   "source": [
    "So then, we have:\n",
    "\n",
    "$$\n",
    "c'_t(z_t)(\\nu-\\beta(1-z_t))=\\beta i_td'_t(i_t)\n",
    "$$"
   ]
  },
  {
   "cell_type": "markdown",
   "metadata": {},
   "source": [
    "So, if costs of the policy are constant and so are the costs, we have:\n",
    "\n",
    "$$\n",
    "c(\\nu-\\beta+\\beta z_t) = \\beta d'(i_t)i_t\n",
    "$$"
   ]
  },
  {
   "cell_type": "markdown",
   "metadata": {},
   "source": [
    "Which in the end becomes the linear feedback rule:\n",
    "\n",
    "$$\n",
    "z_t = \\frac{\\beta d'(i_t)i_t}{c}+\\beta - \\nu\n",
    "$$"
   ]
  },
  {
   "cell_type": "code",
   "execution_count": 18,
   "metadata": {},
   "outputs": [],
   "source": [
    "def sirmodel_pol(s0=.99, i0=.01, r0 =0, beta=.1, z=.1, zstart=0, zend=.05, nu=.03, its=1000, tol=.005):\n",
    "    \n",
    "    '''Simulation of the SIR model. The model stops running when the number of infecteds \n",
    "       falls below tolerance or when the maximum iterations are reached.\n",
    "       Tolerance must be less than i0 or the model will never \n",
    "       get going.'''\n",
    "    \n",
    "    S = []\n",
    "    I = []\n",
    "    R = []\n",
    "    Z = []\n",
    "    \n",
    "    s = s0\n",
    "    i = i0\n",
    "    r = r0\n",
    "    \n",
    "    t=0\n",
    "    switch = 0\n",
    "    zh = 0\n",
    " \n",
    "    while t < its and i > tol: \n",
    "        \n",
    "        if (i>=zstart) and (switch == 0):\n",
    "            zh=z\n",
    "            if (i > zend):\n",
    "                switch = 1\n",
    "                \n",
    "        if (i<=zend) and (switch == 1):\n",
    "            zh=0\n",
    "        \n",
    "        \n",
    "        sp = s - beta*s*i*(1-zh)\n",
    "        ip = i + beta*s*i*(1-zh) - nu*i\n",
    "        rp = r + nu*i\n",
    "        \n",
    "        S.append(sp)\n",
    "        I.append(ip)\n",
    "        R.append(rp)\n",
    "        Z.append(zh)\n",
    "        \n",
    "        s = sp\n",
    "        i = ip\n",
    "        r = rp\n",
    "        \n",
    "        t += 1\n",
    "        \n",
    "    return({'s':S, 'i':I, 'r':R, 'z':Z})  "
   ]
  },
  {
   "cell_type": "code",
   "execution_count": 52,
   "metadata": {},
   "outputs": [
    {
     "data": {
      "image/png": "[encoded data removed]",
      "text/plain": [
       "<Figure size 432x288 with 1 Axes>"
      ]
     },
     "metadata": {
      "needs_background": "light"
     },
     "output_type": "display_data"
    }
   ],
   "source": [
    "sim1 = sirmodel()\n",
    "sim2 = sirmodel_pol(z=.39, zstart=0, zend=0.01)\n",
    "xs1  = np.arange(len(sim1['s']))\n",
    "xs2  = np.arange(len(sim2['s']))\n",
    "\n",
    "sline  = plt.plot(xs1, sim1['s'])\n",
    "rline  = plt.plot(xs1, sim1['r'])\n",
    "iline  = plt.plot(xs1, sim1['i'])\n",
    "slinep = plt.plot(xs2, sim2['s'], linestyle='dashed')\n",
    "rlinep = plt.plot(xs2, sim2['r'], linestyle='dashed')\n",
    "ilinep = plt.plot(xs2, sim2['i'], linestyle='dashed')\n",
    "pline  = plt.plot(xs2, sim2['z'], linestyle='dotted')\n",
    "\n",
    "legen = plt.legend(['Susceptible', 'Recovered', 'Infected', 'Susceptible', 'Recovered', 'Infected', 'Policy'])"
   ]
  },
  {
   "cell_type": "code",
   "execution_count": 43,
   "metadata": {},
   "outputs": [
    {
     "name": "stdout",
     "output_type": "stream",
     "text": [
      "Total periods of surpression: 19.199999999999996\n",
      "Total time length:  287\n",
      "Total infected:  0.93841418816132\n",
      "Peak infection:  0.3073602184279912\n",
      "\n",
      "Total infected without intervention: 31.84804909848912\n",
      "Total time length:  267\n",
      "Total infected:  0.9555933642236504\n",
      "Peak infection:  0.346216183226024\n"
     ]
    }
   ],
   "source": [
    "print('Total periods of surpression:', np.sum(sim2['z']))\n",
    "print('Total time length: ', len(sim2['z']))\n",
    "print('Total infected: ', sim2['r'][-1])\n",
    "print('Peak infection: ', np.max(sim2['i']))\n",
    "\n",
    "# Without Policy\n",
    "\n",
    "print('')\n",
    "\n",
    "print('Total infected without intervention:', np.sum(sim1['i']))\n",
    "print('Total time length: ', len(sim1['i']))\n",
    "print('Total infected: ', sim1['r'][-1])\n",
    "print('Peak infection: ', np.max(sim1['i']))"
   ]
  },
  {
   "cell_type": "markdown",
   "metadata": {},
   "source": [
    "    "
   ]
  },
  {
   "cell_type": "code",
   "execution_count": 53,
   "metadata": {},
   "outputs": [],
   "source": [
    "from sympy import *\n",
    "\n",
    "init_printing()"
   ]
  },
  {
   "cell_type": "code",
   "execution_count": 54,
   "metadata": {},
   "outputs": [],
   "source": [
    "s, nu, beta = symbols('s nu beta')"
   ]
  },
  {
   "cell_type": "code",
   "execution_count": 62,
   "metadata": {},
   "outputs": [
    {
     "data": {
      "image/png": "[encoded data removed]",
      "text/latex": [
       "$$- s + 1 + \\frac{\\nu \\log{\\left (s \\right )}}{\\beta}$$"
      ],
      "text/plain": [
       "         ν⋅log(s)\n",
       "-s + 1 + ────────\n",
       "            β    "
      ]
     },
     "execution_count": 62,
     "metadata": {},
     "output_type": "execute_result"
    }
   ],
   "source": [
    "eq = 1-s + nu/beta*log(s)\n",
    "eq"
   ]
  },
  {
   "cell_type": "code",
   "execution_count": 63,
   "metadata": {},
   "outputs": [
    {
     "data": {
      "image/png": "[encoded data removed]",
      "text/latex": [
       "$$0.20318786997998$$"
      ],
      "text/plain": [
       "0.203187869979980"
      ]
     },
     "execution_count": 63,
     "metadata": {},
     "output_type": "execute_result"
    }
   ],
   "source": [
    "ssta = solve(eq, s)[0]\n",
    "ssta.subs({beta:.2, nu:.1})"
   ]
  },
  {
   "cell_type": "code",
   "execution_count": null,
   "metadata": {},
   "outputs": [],
   "source": []
  }
 ],
 "metadata": {
  "kernelspec": {
   "display_name": "Python 3",
   "language": "python",
   "name": "python3"
  },
  "language_info": {
   "codemirror_mode": {
    "name": "ipython",
    "version": 3
   },
   "file_extension": ".py",
   "mimetype": "text/x-python",
   "name": "python",
   "nbconvert_exporter": "python",
   "pygments_lexer": "ipython3",
   "version": "3.7.3"
  }
 },
 "nbformat": 4,
 "nbformat_minor": 2
}
