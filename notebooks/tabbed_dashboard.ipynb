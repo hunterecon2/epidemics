{
 "cells": [
  {
   "cell_type": "markdown",
   "metadata": {},
   "source": [
    "## Widgets and tabbed dashboards"
   ]
  },
  {
   "cell_type": "code",
   "execution_count": 1,
   "metadata": {},
   "outputs": [],
   "source": [
    "from ipywidgets import interact, interactive, fixed, interact_manual, IntSlider\n",
    "import ipywidgets as widgets\n",
    "import matplotlib.pyplot as plt"
   ]
  },
  {
   "cell_type": "markdown",
   "metadata": {},
   "source": [
    "## `interact` vs `interactive`\n",
    "\n",
    "The easiest way to get interactive widgets is via `interact`.. But you can get more control using `interactive`.\n",
    "Here is as simple"
   ]
  },
  {
   "cell_type": "code",
   "execution_count": 2,
   "metadata": {},
   "outputs": [],
   "source": [
    "def f(x=5):\n",
    "    print(2*x)"
   ]
  },
  {
   "cell_type": "code",
   "execution_count": 3,
   "metadata": {},
   "outputs": [
    {
     "data": {
      "application/vnd.jupyter.widget-view+json": {
       "model_id": "05028cac83364626bb9c8546386bd675",
       "version_major": 2,
       "version_minor": 0
      },
      "text/plain": [
       "interactive(children=(IntSlider(value=5, description='x', max=10, min=1), Output()), _dom_classes=('widget-int…"
      ]
     },
     "metadata": {},
     "output_type": "display_data"
    }
   ],
   "source": [
    "interact(f, x=(1,10,1));"
   ]
  },
  {
   "cell_type": "markdown",
   "metadata": {},
   "source": [
    "Technically this command can be broken into parts. An input widget plus an output widget that are then displayed together."
   ]
  },
  {
   "cell_type": "code",
   "execution_count": 4,
   "metadata": {},
   "outputs": [
    {
     "data": {
      "application/vnd.jupyter.widget-view+json": {
       "model_id": "14bdd8cee90d42438fea1d69df28347e",
       "version_major": 2,
       "version_minor": 0
      },
      "text/plain": [
       "IntSlider(value=5, max=10)"
      ]
     },
     "metadata": {},
     "output_type": "display_data"
    },
    {
     "data": {
      "application/vnd.jupyter.widget-view+json": {
       "model_id": "3941c17807b046d69c78805b832ea506",
       "version_major": 2,
       "version_minor": 0
      },
      "text/plain": [
       "Output()"
      ]
     },
     "metadata": {},
     "output_type": "display_data"
    }
   ],
   "source": [
    "x = widgets.IntSlider(min =0, max=10, step=1, value=5)\n",
    "out = widgets.interactive_output(f, {'x': x})\n",
    "display(x, out)"
   ]
  },
  {
   "cell_type": "markdown",
   "metadata": {},
   "source": [
    "This is more laborious but allows for much more creative control as seen below.\n",
    "\n",
    "Also useful to know, each widget has a number of properties which can be modified."
   ]
  },
  {
   "cell_type": "code",
   "execution_count": 5,
   "metadata": {},
   "outputs": [
    {
     "data": {
      "text/plain": [
       "{'_dom_classes': (),\n",
       " '_model_module': '@jupyter-widgets/controls',\n",
       " '_model_module_version': '1.5.0',\n",
       " '_model_name': 'IntSliderModel',\n",
       " '_view_count': None,\n",
       " '_view_module': '@jupyter-widgets/controls',\n",
       " '_view_module_version': '1.5.0',\n",
       " '_view_name': 'IntSliderView',\n",
       " 'continuous_update': True,\n",
       " 'description': '',\n",
       " 'description_tooltip': None,\n",
       " 'disabled': False,\n",
       " 'layout': 'IPY_MODEL_983e02072d9c4a32a62b63f157f963a4',\n",
       " 'max': 10,\n",
       " 'min': 0,\n",
       " 'orientation': 'horizontal',\n",
       " 'readout': True,\n",
       " 'readout_format': 'd',\n",
       " 'step': 1,\n",
       " 'style': 'IPY_MODEL_fe003ae2447446f3bf5d4d14d9aea01b',\n",
       " 'value': 5}"
      ]
     },
     "execution_count": 5,
     "metadata": {},
     "output_type": "execute_result"
    }
   ],
   "source": [
    "x.get_state()"
   ]
  },
  {
   "cell_type": "markdown",
   "metadata": {},
   "source": [
    "## Hbox, Vbox, tab, etc"
   ]
  },
  {
   "cell_type": "code",
   "execution_count": 6,
   "metadata": {},
   "outputs": [],
   "source": [
    "def g(a=1,b=4,c=3):\n",
    "    plt.plot([a,b,c])"
   ]
  },
  {
   "cell_type": "code",
   "execution_count": 7,
   "metadata": {},
   "outputs": [],
   "source": [
    "a = widgets.FloatSlider(description=r'$\\alpha$', min=0, max=1, value=0.2)\n",
    "b = widgets.FloatSlider(description=r'$\\beta$', min=0, max=1,value=0.5)\n",
    "c = widgets.FloatSlider(description=r'$\\gamma$', min=0, max=1,value=0.3)\n",
    "d = widgets.FloatSlider(description=r'$\\delta$', min=0, max=1,value=0.3)\n",
    "e = widgets.FloatSlider(description=r'$\\epsilon$', min=0, max=1,value=0.3)\n",
    "l = widgets.FloatSlider(description=r'$\\lambda$', min=0, max=1,value=0.3)"
   ]
  },
  {
   "cell_type": "code",
   "execution_count": 8,
   "metadata": {},
   "outputs": [],
   "source": [
    "parm = widgets.VBox([a,b,c,d, e, l])"
   ]
  },
  {
   "cell_type": "code",
   "execution_count": 9,
   "metadata": {},
   "outputs": [],
   "source": [
    "out = widgets.interactive_output(g, {'a': a, 'b': b, 'c': c})"
   ]
  },
  {
   "cell_type": "code",
   "execution_count": 10,
   "metadata": {},
   "outputs": [
    {
     "data": {
      "application/vnd.jupyter.widget-view+json": {
       "model_id": "002aa19e819a4dd7bcf086306b01c494",
       "version_major": 2,
       "version_minor": 0
      },
      "text/plain": [
       "HBox(children=(Output(), VBox(children=(FloatSlider(value=0.2, description='$\\\\alpha$', max=1.0), FloatSlider(…"
      ]
     },
     "metadata": {},
     "output_type": "display_data"
    }
   ],
   "source": [
    "widgets.HBox([out, parm])"
   ]
  },
  {
   "cell_type": "markdown",
   "metadata": {},
   "source": [
    "## A tabbed 'dashboard'"
   ]
  },
  {
   "cell_type": "code",
   "execution_count": 12,
   "metadata": {},
   "outputs": [
    {
     "data": {
      "application/vnd.jupyter.widget-view+json": {
       "model_id": "94b0bdbfce1e408b879a5e7a74d3b136",
       "version_major": 2,
       "version_minor": 0
      },
      "text/plain": [
       "HBox(children=(VBox(children=(SelectionSlider(description='Plot:', index=1, options=('S', 'I', 'D', 'R'), valu…"
      ]
     },
     "metadata": {},
     "output_type": "display_data"
    }
   ],
   "source": [
    "pl = widgets.Dropdown(\n",
    "    options=['ID', 'SR'],\n",
    "    value='ID',\n",
    "    description='Plot:',\n",
    "    disabled=False,\n",
    "    icons=['check']*2 \n",
    ")\n",
    "\n",
    "pl = widgets.Checkbox(\n",
    "    value=False,\n",
    "    description='ID/SR',\n",
    "    disabled=False,\n",
    ")\n",
    "\n",
    "\n",
    "pl=widgets.SelectionSlider(\n",
    "    options=['S', 'I', 'D', 'R'],\n",
    "    value='I', \n",
    "    description='Plot:',\n",
    "    disabled=False,\n",
    ")\n",
    "\n",
    "\n",
    "#pl.style.button_width='50px'\n",
    "\n",
    "\n",
    "\n",
    "ui = widgets.VBox([a, b, c])\n",
    "\n",
    "def f(a=1, b=1, c=1, pl='I'):\n",
    "    print((a, b, c))\n",
    "    print(pl)\n",
    "    if pl=='I':\n",
    "        plt.plot([a,b,c])\n",
    "    elif pl=='R':\n",
    "        plt.plot([c,a,b])\n",
    "    else:\n",
    "        plt.plot([b,a,c])\n",
    "\n",
    "out = widgets.interactive_output(f, {'a': a, 'b': b, 'c': c, 'pl': pl})\n",
    "widgets.HBox([widgets.VBox([pl,a,b]), out])"
   ]
  },
  {
   "cell_type": "code",
   "execution_count": 15,
   "metadata": {},
   "outputs": [],
   "source": [
    "tab_contents = ['Start Values', 'Param 1', 'Param 2']\n",
    "children = [widgets.Text(description=name) for name in tab_contents]\n",
    "children[0] = widgets.GridBox([pl,a,b,c,d,e,l,a], layout=widgets.Layout(grid_template_columns=\"repeat(4, 250px)\"))\n",
    "children[1] = widgets.GridBox([pl,a,b,c,d,e,l,a], layout=widgets.Layout(grid_template_columns=\"repeat(4, 250px)\"))\n",
    "children[2] = widgets.GridBox([pl,a,b,c,d,e,l,a], layout=widgets.Layout(grid_template_columns=\"repeat(4, 250px)\"))\n",
    "tab = widgets.Tab()\n",
    "tab.children = children\n",
    "\n",
    "tab.set_title(0, 'Start Values')\n",
    "tab.set_title(1, 'Parameter pane 1')\n",
    "tab.set_title(2, 'Parameter pane 1')\n",
    "\n",
    "out = widgets.interactive_output(f, {'a': a, 'b': b, 'c': c, 'pl': pl})"
   ]
  },
  {
   "cell_type": "markdown",
   "metadata": {},
   "source": [
    "**Choose the plot type with the plot selector slider:**"
   ]
  },
  {
   "cell_type": "code",
   "execution_count": 16,
   "metadata": {},
   "outputs": [
    {
     "data": {
      "application/vnd.jupyter.widget-view+json": {
       "model_id": "8d2a0fc6ee954f8fa80cfddd527b70e4",
       "version_major": 2,
       "version_minor": 0
      },
      "text/plain": [
       "VBox(children=(Tab(children=(GridBox(children=(SelectionSlider(description='Plot:', index=2, options=('S', 'I'…"
      ]
     },
     "metadata": {},
     "output_type": "display_data"
    }
   ],
   "source": [
    "widgets.VBox([tab, out])"
   ]
  },
  {
   "cell_type": "code",
   "execution_count": null,
   "metadata": {},
   "outputs": [],
   "source": []
  }
 ],
 "metadata": {
  "kernelspec": {
   "display_name": "Python 3",
   "language": "python",
   "name": "python3"
  },
  "language_info": {
   "codemirror_mode": {
    "name": "ipython",
    "version": 3
   },
   "file_extension": ".py",
   "mimetype": "text/x-python",
   "name": "python",
   "nbconvert_exporter": "python",
   "pygments_lexer": "ipython3",
   "version": "3.7.3"
  },
  "varInspector": {
   "cols": {
    "lenName": 16,
    "lenType": 16,
    "lenVar": 40
   },
   "kernels_config": {
    "python": {
     "delete_cmd_postfix": "",
     "delete_cmd_prefix": "del ",
     "library": "var_list.py",
     "varRefreshCmd": "print(var_dic_list())"
    },
    "r": {
     "delete_cmd_postfix": ") ",
     "delete_cmd_prefix": "rm(",
     "library": "var_list.r",
     "varRefreshCmd": "cat(var_dic_list()) "
    }
   },
   "types_to_exclude": [
    "module",
    "function",
    "builtin_function_or_method",
    "instance",
    "_Feature"
   ],
   "window_display": false
  },
  "widgets": {
   "application/vnd.jupyter.widget-state+json": {
    "state": {
     "002aa19e819a4dd7bcf086306b01c494": {
      "model_module": "@jupyter-widgets/controls",
      "model_module_version": "1.5.0",
      "model_name": "HBoxModel",
      "state": {
       "children": [
        "IPY_MODEL_3fa0aa1ae56d41e1aacdab744712d5e8",
        "IPY_MODEL_b92db219308d4f1caa174d93d30f5bd5"
       ],
       "layout": "IPY_MODEL_d17693914e41439b9282cf79fb89871e"
      }
     },
     "05028cac83364626bb9c8546386bd675": {
      "model_module": "@jupyter-widgets/controls",
      "model_module_version": "1.5.0",
      "model_name": "VBoxModel",
      "state": {
       "_dom_classes": [
        "widget-interact"
       ],
       "children": [
        "IPY_MODEL_d42c1b5c257a474181f96ea4f8f5e654",
        "IPY_MODEL_e90e24648a224914a5e7c3c3bb6e0a70"
       ],
       "layout": "IPY_MODEL_b7eefea8a4af4bbfb22433a1b1c15126"
      }
     },
     "070093a4569f455fa67a75de088c7b5a": {
      "model_module": "@jupyter-widgets/output",
      "model_module_version": "1.0.0",
      "model_name": "OutputModel",
      "state": {
       "layout": "IPY_MODEL_819f3d270bc44a9788fcc9270f2d2565",
       "outputs": [
        {
         "name": "stdout",
         "output_type": "stream",
         "text": "(0.2, 0.5, 0.3)\nD\n"
        },
        {
         "data": {
          "image/png": "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\n",
          "text/plain": "<Figure size 432x288 with 1 Axes>"
         },
         "metadata": {
          "needs_background": "light"
         },
         "output_type": "display_data"
        }
       ]
      }
     },
     "0ae82f9aff58486eb84a644195c7ce33": {
      "model_module": "@jupyter-widgets/base",
      "model_module_version": "1.2.0",
      "model_name": "LayoutModel",
      "state": {}
     },
     "0c249d7a098440e985e087e19731236e": {
      "model_module": "@jupyter-widgets/controls",
      "model_module_version": "1.5.0",
      "model_name": "TextModel",
      "state": {
       "description": "Param 1",
       "layout": "IPY_MODEL_0f235a745e8f43518b6cc8c54de44ef6",
       "style": "IPY_MODEL_35f16c9ae70f45de8757995d9a036dfa"
      }
     },
     "0c6234b9de6040d0aeafe445ff08c55e": {
      "model_module": "@jupyter-widgets/base",
      "model_module_version": "1.2.0",
      "model_name": "LayoutModel",
      "state": {}
     },
     "0ca6744c515341d192cb7d815980e2cc": {
      "model_module": "@jupyter-widgets/controls",
      "model_module_version": "1.5.0",
      "model_name": "SliderStyleModel",
      "state": {
       "description_width": ""
      }
     },
     "0f235a745e8f43518b6cc8c54de44ef6": {
      "model_module": "@jupyter-widgets/base",
      "model_module_version": "1.2.0",
      "model_name": "LayoutModel",
      "state": {}
     },
     "115436d234df4d9dad5c16195eb026d6": {
      "model_module": "@jupyter-widgets/controls",
      "model_module_version": "1.5.0",
      "model_name": "GridBoxModel",
      "state": {
       "children": [
        "IPY_MODEL_1f395734af014d3d98890a02061bfac8",
        "IPY_MODEL_d4053ae14aa34901af676ab1b24224ba",
        "IPY_MODEL_1774081ce32143a6bc852efb17dff4ec",
        "IPY_MODEL_4d74dc4054024c2bbe3197a4399365b3",
        "IPY_MODEL_bba8459919bc485fac9391f4d30bc616",
        "IPY_MODEL_1ca56e76e8e04698aef0b0d5f18246e6",
        "IPY_MODEL_81c517aa8567481db53489bac959a4a7",
        "IPY_MODEL_d4053ae14aa34901af676ab1b24224ba"
       ],
       "layout": "IPY_MODEL_1bcc9b5361144933950c3c1a88369e00"
      }
     },
     "14bdd8cee90d42438fea1d69df28347e": {
      "model_module": "@jupyter-widgets/controls",
      "model_module_version": "1.5.0",
      "model_name": "IntSliderModel",
      "state": {
       "layout": "IPY_MODEL_983e02072d9c4a32a62b63f157f963a4",
       "max": 10,
       "style": "IPY_MODEL_fe003ae2447446f3bf5d4d14d9aea01b",
       "value": 5
      }
     },
     "1774081ce32143a6bc852efb17dff4ec": {
      "model_module": "@jupyter-widgets/controls",
      "model_module_version": "1.5.0",
      "model_name": "FloatSliderModel",
      "state": {
       "description": "$\\beta$",
       "layout": "IPY_MODEL_e6cd92996a9a4b46a38163d511fd48fa",
       "max": 1,
       "step": 0.1,
       "style": "IPY_MODEL_0ca6744c515341d192cb7d815980e2cc",
       "value": 0.5
      }
     },
     "19a3a8c42ab24ddda72a5799af6ae85d": {
      "model_module": "@jupyter-widgets/base",
      "model_module_version": "1.2.0",
      "model_name": "LayoutModel",
      "state": {}
     },
     "1abc7c2b291d4ae7874ef21972093578": {
      "model_module": "@jupyter-widgets/base",
      "model_module_version": "1.2.0",
      "model_name": "LayoutModel",
      "state": {}
     },
     "1bcc9b5361144933950c3c1a88369e00": {
      "model_module": "@jupyter-widgets/base",
      "model_module_version": "1.2.0",
      "model_name": "LayoutModel",
      "state": {
       "grid_template_columns": "repeat(4, 250px)"
      }
     },
     "1bd56fd5b22046b0b07e2e4e54924ccf": {
      "model_module": "@jupyter-widgets/base",
      "model_module_version": "1.2.0",
      "model_name": "LayoutModel",
      "state": {
       "grid_template_columns": "repeat(4, 250px)"
      }
     },
     "1c20e40ab2c64b318c0b692fe3895f0a": {
      "model_module": "@jupyter-widgets/controls",
      "model_module_version": "1.5.0",
      "model_name": "TextModel",
      "state": {
       "description": "Start Values",
       "layout": "IPY_MODEL_7c29baab4d0448c8b0ffb8cd4b9c158d",
       "style": "IPY_MODEL_b05ed31f254c4194a1136a20a6ba6ded"
      }
     },
     "1ca56e76e8e04698aef0b0d5f18246e6": {
      "model_module": "@jupyter-widgets/controls",
      "model_module_version": "1.5.0",
      "model_name": "FloatSliderModel",
      "state": {
       "description": "$\\epsilon$",
       "layout": "IPY_MODEL_b72343f11fe846d798a0ed5e8adbdcfe",
       "max": 1,
       "step": 0.1,
       "style": "IPY_MODEL_a7b120eaa818471199a05e0103e3cdee",
       "value": 0.3
      }
     },
     "1cddbaab19b54756a3573d9d13f84079": {
      "model_module": "@jupyter-widgets/controls",
      "model_module_version": "1.5.0",
      "model_name": "DescriptionStyleModel",
      "state": {
       "description_width": ""
      }
     },
     "1f395734af014d3d98890a02061bfac8": {
      "model_module": "@jupyter-widgets/controls",
      "model_module_version": "1.5.0",
      "model_name": "SelectionSliderModel",
      "state": {
       "_options_labels": [
        "S",
        "I",
        "D",
        "R"
       ],
       "description": "Plot:",
       "index": 2,
       "layout": "IPY_MODEL_1abc7c2b291d4ae7874ef21972093578",
       "style": "IPY_MODEL_be608d4cc2744c7f829293e5d8c81d9f"
      }
     },
     "218fe661bde14b39a014f67b11f1102b": {
      "model_module": "@jupyter-widgets/controls",
      "model_module_version": "1.5.0",
      "model_name": "SliderStyleModel",
      "state": {
       "description_width": ""
      }
     },
     "21b59617a9af44608aa1f8e16b541150": {
      "model_module": "@jupyter-widgets/controls",
      "model_module_version": "1.5.0",
      "model_name": "GridBoxModel",
      "state": {
       "children": [
        "IPY_MODEL_1f395734af014d3d98890a02061bfac8",
        "IPY_MODEL_d4053ae14aa34901af676ab1b24224ba",
        "IPY_MODEL_1774081ce32143a6bc852efb17dff4ec",
        "IPY_MODEL_4d74dc4054024c2bbe3197a4399365b3",
        "IPY_MODEL_bba8459919bc485fac9391f4d30bc616",
        "IPY_MODEL_1ca56e76e8e04698aef0b0d5f18246e6",
        "IPY_MODEL_81c517aa8567481db53489bac959a4a7",
        "IPY_MODEL_d4053ae14aa34901af676ab1b24224ba"
       ],
       "layout": "IPY_MODEL_1bd56fd5b22046b0b07e2e4e54924ccf"
      }
     },
     "23abb5446277439b96a606e9d29e390e": {
      "model_module": "@jupyter-widgets/controls",
      "model_module_version": "1.5.0",
      "model_name": "DescriptionStyleModel",
      "state": {
       "description_width": ""
      }
     },
     "24ad9d633c244e5e875b66bd139c709b": {
      "model_module": "@jupyter-widgets/controls",
      "model_module_version": "1.5.0",
      "model_name": "SliderStyleModel",
      "state": {
       "description_width": ""
      }
     },
     "2a7e155fe1a146f798e25066c5e45c76": {
      "model_module": "@jupyter-widgets/base",
      "model_module_version": "1.2.0",
      "model_name": "LayoutModel",
      "state": {
       "grid_template_columns": "repeat(4, 250px)"
      }
     },
     "2bc6d283100b47068cb5bbc618d5012f": {
      "model_module": "@jupyter-widgets/base",
      "model_module_version": "1.2.0",
      "model_name": "LayoutModel",
      "state": {}
     },
     "34f40fd5387f447385b037b9427e5086": {
      "model_module": "@jupyter-widgets/controls",
      "model_module_version": "1.5.0",
      "model_name": "VBoxModel",
      "state": {
       "children": [
        "IPY_MODEL_d4053ae14aa34901af676ab1b24224ba",
        "IPY_MODEL_1774081ce32143a6bc852efb17dff4ec",
        "IPY_MODEL_4d74dc4054024c2bbe3197a4399365b3"
       ],
       "layout": "IPY_MODEL_6f0e180d8cfd465285a5e11cc43aa9e6"
      }
     },
     "35f16c9ae70f45de8757995d9a036dfa": {
      "model_module": "@jupyter-widgets/controls",
      "model_module_version": "1.5.0",
      "model_name": "DescriptionStyleModel",
      "state": {
       "description_width": ""
      }
     },
     "3941c17807b046d69c78805b832ea506": {
      "model_module": "@jupyter-widgets/output",
      "model_module_version": "1.0.0",
      "model_name": "OutputModel",
      "state": {
       "layout": "IPY_MODEL_6aaab81673714e8c832352e8cf8b13a9",
       "outputs": [
        {
         "name": "stdout",
         "output_type": "stream",
         "text": "10\n"
        }
       ]
      }
     },
     "3bbf3a42de784b5d91e8a87b30b5dfc8": {
      "model_module": "@jupyter-widgets/output",
      "model_module_version": "1.0.0",
      "model_name": "OutputModel",
      "state": {
       "layout": "IPY_MODEL_88c9e3ad821a4a29bf50dc09f2bda864",
       "outputs": [
        {
         "name": "stdout",
         "output_type": "stream",
         "text": "(0.2, 0.5, 0.3)\nD\n"
        },
        {
         "data": {
          "image/png": "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\n",
          "text/plain": "<Figure size 432x288 with 1 Axes>"
         },
         "metadata": {
          "needs_background": "light"
         },
         "output_type": "display_data"
        }
       ]
      }
     },
     "3c219e374fa54605aeffa35acb7d5404": {
      "model_module": "@jupyter-widgets/controls",
      "model_module_version": "1.5.0",
      "model_name": "CheckboxModel",
      "state": {
       "description": "ID/SR",
       "disabled": false,
       "layout": "IPY_MODEL_ca61e9651d3b4a04a05cf6f692a3cd48",
       "style": "IPY_MODEL_9680ab0f740f40859938af2066ef836b",
       "value": false
      }
     },
     "3e6531e907e246e59e0b4a8af80a9add": {
      "model_module": "@jupyter-widgets/controls",
      "model_module_version": "1.5.0",
      "model_name": "SliderStyleModel",
      "state": {
       "description_width": ""
      }
     },
     "3ee2667b862e482d91b7006e914dfc4b": {
      "model_module": "@jupyter-widgets/controls",
      "model_module_version": "1.5.0",
      "model_name": "DescriptionStyleModel",
      "state": {
       "description_width": ""
      }
     },
     "3f801b6fefc94af5a6198cda2e1f3ebb": {
      "model_module": "@jupyter-widgets/controls",
      "model_module_version": "1.5.0",
      "model_name": "VBoxModel",
      "state": {
       "children": [
        "IPY_MODEL_a10b4c1b135b4433972f12d8e6d8befe",
        "IPY_MODEL_7e4c5a8bdb5f4fb18cc9f11350d102d7"
       ],
       "layout": "IPY_MODEL_4a7c262fa15740b48b99b3d9c3ef29cc"
      }
     },
     "3fa0aa1ae56d41e1aacdab744712d5e8": {
      "model_module": "@jupyter-widgets/output",
      "model_module_version": "1.0.0",
      "model_name": "OutputModel",
      "state": {
       "layout": "IPY_MODEL_c15b2f691d7c4e09bf4e72f5c41bafd0",
       "outputs": [
        {
         "data": {
          "image/png": "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\n",
          "text/plain": "<Figure size 432x288 with 1 Axes>"
         },
         "metadata": {
          "needs_background": "light"
         },
         "output_type": "display_data"
        }
       ]
      }
     },
     "424c6bd97c2c460a9f07631c55ceef7c": {
      "model_module": "@jupyter-widgets/base",
      "model_module_version": "1.2.0",
      "model_name": "LayoutModel",
      "state": {}
     },
     "4927beb582b3446b8366198d83be9dd0": {
      "model_module": "@jupyter-widgets/controls",
      "model_module_version": "1.5.0",
      "model_name": "SliderStyleModel",
      "state": {
       "description_width": ""
      }
     },
     "4a01246b710c426a9d78f2a7d06218d3": {
      "model_module": "@jupyter-widgets/base",
      "model_module_version": "1.2.0",
      "model_name": "LayoutModel",
      "state": {}
     },
     "4a7c262fa15740b48b99b3d9c3ef29cc": {
      "model_module": "@jupyter-widgets/base",
      "model_module_version": "1.2.0",
      "model_name": "LayoutModel",
      "state": {}
     },
     "4d74dc4054024c2bbe3197a4399365b3": {
      "model_module": "@jupyter-widgets/controls",
      "model_module_version": "1.5.0",
      "model_name": "FloatSliderModel",
      "state": {
       "description": "$\\gamma$",
       "layout": "IPY_MODEL_dbbeacd99602456da298555e9ec3a32d",
       "max": 1,
       "step": 0.1,
       "style": "IPY_MODEL_3e6531e907e246e59e0b4a8af80a9add",
       "value": 0.3
      }
     },
     "51b72f21823a41ce80e3a89f708dd327": {
      "model_module": "@jupyter-widgets/base",
      "model_module_version": "1.2.0",
      "model_name": "LayoutModel",
      "state": {}
     },
     "5967b56365aa45e28948495b14fe137e": {
      "model_module": "@jupyter-widgets/controls",
      "model_module_version": "1.5.0",
      "model_name": "GridBoxModel",
      "state": {
       "children": [
        "IPY_MODEL_1f395734af014d3d98890a02061bfac8",
        "IPY_MODEL_d4053ae14aa34901af676ab1b24224ba",
        "IPY_MODEL_1774081ce32143a6bc852efb17dff4ec",
        "IPY_MODEL_4d74dc4054024c2bbe3197a4399365b3",
        "IPY_MODEL_bba8459919bc485fac9391f4d30bc616",
        "IPY_MODEL_1ca56e76e8e04698aef0b0d5f18246e6",
        "IPY_MODEL_81c517aa8567481db53489bac959a4a7",
        "IPY_MODEL_d4053ae14aa34901af676ab1b24224ba"
       ],
       "layout": "IPY_MODEL_d3a41a1866f14d8b857723903e57a322"
      }
     },
     "67955178c1fa41e481b430c90f18724e": {
      "model_module": "@jupyter-widgets/base",
      "model_module_version": "1.2.0",
      "model_name": "LayoutModel",
      "state": {}
     },
     "6aaab81673714e8c832352e8cf8b13a9": {
      "model_module": "@jupyter-widgets/base",
      "model_module_version": "1.2.0",
      "model_name": "LayoutModel",
      "state": {}
     },
     "6b8f178cfa2145d2a1b028b865dcb431": {
      "model_module": "@jupyter-widgets/base",
      "model_module_version": "1.2.0",
      "model_name": "LayoutModel",
      "state": {}
     },
     "6f0e180d8cfd465285a5e11cc43aa9e6": {
      "model_module": "@jupyter-widgets/base",
      "model_module_version": "1.2.0",
      "model_name": "LayoutModel",
      "state": {}
     },
     "70309acabb9449b48becb9aace4ed890": {
      "model_module": "@jupyter-widgets/base",
      "model_module_version": "1.2.0",
      "model_name": "LayoutModel",
      "state": {}
     },
     "7709652d0d5e46658987ceca6b5c8f96": {
      "model_module": "@jupyter-widgets/controls",
      "model_module_version": "1.5.0",
      "model_name": "DropdownModel",
      "state": {
       "_options_labels": [
        "ID",
        "SR"
       ],
       "description": "Plot:",
       "index": 0,
       "layout": "IPY_MODEL_96314e0051044a63b42f96a38db89300",
       "style": "IPY_MODEL_1cddbaab19b54756a3573d9d13f84079"
      }
     },
     "7c29baab4d0448c8b0ffb8cd4b9c158d": {
      "model_module": "@jupyter-widgets/base",
      "model_module_version": "1.2.0",
      "model_name": "LayoutModel",
      "state": {}
     },
     "7e4c5a8bdb5f4fb18cc9f11350d102d7": {
      "model_module": "@jupyter-widgets/output",
      "model_module_version": "1.0.0",
      "model_name": "OutputModel",
      "state": {
       "layout": "IPY_MODEL_2bc6d283100b47068cb5bbc618d5012f",
       "outputs": [
        {
         "name": "stdout",
         "output_type": "stream",
         "text": "(0.2, 0.5, 0.3)\nD\n"
        },
        {
         "data": {
          "image/png": "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\n",
          "text/plain": "<Figure size 432x288 with 1 Axes>"
         },
         "metadata": {
          "needs_background": "light"
         },
         "output_type": "display_data"
        }
       ]
      }
     },
     "80d76c52b4a8437894ada68d197b2f28": {
      "model_module": "@jupyter-widgets/controls",
      "model_module_version": "1.5.0",
      "model_name": "GridBoxModel",
      "state": {
       "children": [
        "IPY_MODEL_1f395734af014d3d98890a02061bfac8",
        "IPY_MODEL_d4053ae14aa34901af676ab1b24224ba",
        "IPY_MODEL_1774081ce32143a6bc852efb17dff4ec",
        "IPY_MODEL_4d74dc4054024c2bbe3197a4399365b3",
        "IPY_MODEL_bba8459919bc485fac9391f4d30bc616",
        "IPY_MODEL_1ca56e76e8e04698aef0b0d5f18246e6",
        "IPY_MODEL_81c517aa8567481db53489bac959a4a7",
        "IPY_MODEL_d4053ae14aa34901af676ab1b24224ba"
       ],
       "layout": "IPY_MODEL_8cffc919c47f44a18c5c765c8e08c16b"
      }
     },
     "819f3d270bc44a9788fcc9270f2d2565": {
      "model_module": "@jupyter-widgets/base",
      "model_module_version": "1.2.0",
      "model_name": "LayoutModel",
      "state": {}
     },
     "81c517aa8567481db53489bac959a4a7": {
      "model_module": "@jupyter-widgets/controls",
      "model_module_version": "1.5.0",
      "model_name": "FloatSliderModel",
      "state": {
       "description": "$\\lambda$",
       "layout": "IPY_MODEL_67955178c1fa41e481b430c90f18724e",
       "max": 1,
       "step": 0.1,
       "style": "IPY_MODEL_218fe661bde14b39a014f67b11f1102b",
       "value": 0.3
      }
     },
     "83034fdf0cb34b81bcbb297364c4bdce": {
      "model_module": "@jupyter-widgets/base",
      "model_module_version": "1.2.0",
      "model_name": "LayoutModel",
      "state": {}
     },
     "88c9e3ad821a4a29bf50dc09f2bda864": {
      "model_module": "@jupyter-widgets/base",
      "model_module_version": "1.2.0",
      "model_name": "LayoutModel",
      "state": {}
     },
     "8a1ef3b6efc44be3ae5922511f15d0ba": {
      "model_module": "@jupyter-widgets/controls",
      "model_module_version": "1.5.0",
      "model_name": "TextModel",
      "state": {
       "description": "Param 1",
       "layout": "IPY_MODEL_83034fdf0cb34b81bcbb297364c4bdce",
       "style": "IPY_MODEL_23abb5446277439b96a606e9d29e390e"
      }
     },
     "8cffc919c47f44a18c5c765c8e08c16b": {
      "model_module": "@jupyter-widgets/base",
      "model_module_version": "1.2.0",
      "model_name": "LayoutModel",
      "state": {
       "grid_template_columns": "repeat(4, 250px)"
      }
     },
     "8d2a0fc6ee954f8fa80cfddd527b70e4": {
      "model_module": "@jupyter-widgets/controls",
      "model_module_version": "1.5.0",
      "model_name": "VBoxModel",
      "state": {
       "children": [
        "IPY_MODEL_eb7b1133776447a09783493a763193f4",
        "IPY_MODEL_070093a4569f455fa67a75de088c7b5a"
       ],
       "layout": "IPY_MODEL_0ae82f9aff58486eb84a644195c7ce33"
      }
     },
     "8e4ce49d08f94795befda480bd43faed": {
      "model_module": "@jupyter-widgets/controls",
      "model_module_version": "1.5.0",
      "model_name": "SliderStyleModel",
      "state": {
       "description_width": ""
      }
     },
     "913f27530504414ab05e9ff1ed70e02b": {
      "model_module": "@jupyter-widgets/controls",
      "model_module_version": "1.5.0",
      "model_name": "GridBoxModel",
      "state": {
       "children": [
        "IPY_MODEL_1f395734af014d3d98890a02061bfac8",
        "IPY_MODEL_d4053ae14aa34901af676ab1b24224ba",
        "IPY_MODEL_1774081ce32143a6bc852efb17dff4ec",
        "IPY_MODEL_4d74dc4054024c2bbe3197a4399365b3",
        "IPY_MODEL_bba8459919bc485fac9391f4d30bc616",
        "IPY_MODEL_1ca56e76e8e04698aef0b0d5f18246e6",
        "IPY_MODEL_81c517aa8567481db53489bac959a4a7",
        "IPY_MODEL_d4053ae14aa34901af676ab1b24224ba"
       ],
       "layout": "IPY_MODEL_f0969a1fece242168e06c59313d44572"
      }
     },
     "94b0bdbfce1e408b879a5e7a74d3b136": {
      "model_module": "@jupyter-widgets/controls",
      "model_module_version": "1.5.0",
      "model_name": "HBoxModel",
      "state": {
       "children": [
        "IPY_MODEL_ef76fe43d1054cd7b1e1c6cd1e9f01d8",
        "IPY_MODEL_3bbf3a42de784b5d91e8a87b30b5dfc8"
       ],
       "layout": "IPY_MODEL_0c6234b9de6040d0aeafe445ff08c55e"
      }
     },
     "96314e0051044a63b42f96a38db89300": {
      "model_module": "@jupyter-widgets/base",
      "model_module_version": "1.2.0",
      "model_name": "LayoutModel",
      "state": {}
     },
     "9680ab0f740f40859938af2066ef836b": {
      "model_module": "@jupyter-widgets/controls",
      "model_module_version": "1.5.0",
      "model_name": "DescriptionStyleModel",
      "state": {
       "description_width": ""
      }
     },
     "983e02072d9c4a32a62b63f157f963a4": {
      "model_module": "@jupyter-widgets/base",
      "model_module_version": "1.2.0",
      "model_name": "LayoutModel",
      "state": {}
     },
     "9fc2ff3d3a0c4f2cbd02426316684897": {
      "model_module": "@jupyter-widgets/base",
      "model_module_version": "1.2.0",
      "model_name": "LayoutModel",
      "state": {}
     },
     "a10b4c1b135b4433972f12d8e6d8befe": {
      "model_module": "@jupyter-widgets/controls",
      "model_module_version": "1.5.0",
      "model_name": "TabModel",
      "state": {
       "_titles": {
        "0": "Start Values",
        "1": "Parameter pane 1",
        "2": "Parameter pane 1"
       },
       "children": [
        "IPY_MODEL_5967b56365aa45e28948495b14fe137e",
        "IPY_MODEL_913f27530504414ab05e9ff1ed70e02b",
        "IPY_MODEL_80d76c52b4a8437894ada68d197b2f28"
       ],
       "layout": "IPY_MODEL_70309acabb9449b48becb9aace4ed890"
      }
     },
     "a35d49d61142443db3cf84ca80b2f9f6": {
      "model_module": "@jupyter-widgets/base",
      "model_module_version": "1.2.0",
      "model_name": "LayoutModel",
      "state": {
       "grid_template_columns": "repeat(4, 250px)"
      }
     },
     "a4767742f4974d4bb5cbbc619261807e": {
      "model_module": "@jupyter-widgets/controls",
      "model_module_version": "1.5.0",
      "model_name": "TextModel",
      "state": {
       "description": "Param 2",
       "layout": "IPY_MODEL_424c6bd97c2c460a9f07631c55ceef7c",
       "style": "IPY_MODEL_3ee2667b862e482d91b7006e914dfc4b"
      }
     },
     "a7b120eaa818471199a05e0103e3cdee": {
      "model_module": "@jupyter-widgets/controls",
      "model_module_version": "1.5.0",
      "model_name": "SliderStyleModel",
      "state": {
       "description_width": ""
      }
     },
     "b05ed31f254c4194a1136a20a6ba6ded": {
      "model_module": "@jupyter-widgets/controls",
      "model_module_version": "1.5.0",
      "model_name": "DescriptionStyleModel",
      "state": {
       "description_width": ""
      }
     },
     "b72343f11fe846d798a0ed5e8adbdcfe": {
      "model_module": "@jupyter-widgets/base",
      "model_module_version": "1.2.0",
      "model_name": "LayoutModel",
      "state": {}
     },
     "b7eefea8a4af4bbfb22433a1b1c15126": {
      "model_module": "@jupyter-widgets/base",
      "model_module_version": "1.2.0",
      "model_name": "LayoutModel",
      "state": {}
     },
     "b92db219308d4f1caa174d93d30f5bd5": {
      "model_module": "@jupyter-widgets/controls",
      "model_module_version": "1.5.0",
      "model_name": "VBoxModel",
      "state": {
       "children": [
        "IPY_MODEL_d4053ae14aa34901af676ab1b24224ba",
        "IPY_MODEL_1774081ce32143a6bc852efb17dff4ec",
        "IPY_MODEL_4d74dc4054024c2bbe3197a4399365b3",
        "IPY_MODEL_bba8459919bc485fac9391f4d30bc616",
        "IPY_MODEL_1ca56e76e8e04698aef0b0d5f18246e6",
        "IPY_MODEL_81c517aa8567481db53489bac959a4a7"
       ],
       "layout": "IPY_MODEL_51b72f21823a41ce80e3a89f708dd327"
      }
     },
     "bba8459919bc485fac9391f4d30bc616": {
      "model_module": "@jupyter-widgets/controls",
      "model_module_version": "1.5.0",
      "model_name": "FloatSliderModel",
      "state": {
       "description": "$\\delta$",
       "layout": "IPY_MODEL_4a01246b710c426a9d78f2a7d06218d3",
       "max": 1,
       "step": 0.1,
       "style": "IPY_MODEL_8e4ce49d08f94795befda480bd43faed",
       "value": 0.3
      }
     },
     "be608d4cc2744c7f829293e5d8c81d9f": {
      "model_module": "@jupyter-widgets/controls",
      "model_module_version": "1.5.0",
      "model_name": "DescriptionStyleModel",
      "state": {
       "description_width": ""
      }
     },
     "c07ed0fc2c874cd69d2b099d769945a4": {
      "model_module": "@jupyter-widgets/controls",
      "model_module_version": "1.5.0",
      "model_name": "GridBoxModel",
      "state": {
       "children": [
        "IPY_MODEL_1f395734af014d3d98890a02061bfac8",
        "IPY_MODEL_d4053ae14aa34901af676ab1b24224ba",
        "IPY_MODEL_1774081ce32143a6bc852efb17dff4ec",
        "IPY_MODEL_4d74dc4054024c2bbe3197a4399365b3",
        "IPY_MODEL_bba8459919bc485fac9391f4d30bc616",
        "IPY_MODEL_1ca56e76e8e04698aef0b0d5f18246e6",
        "IPY_MODEL_81c517aa8567481db53489bac959a4a7",
        "IPY_MODEL_d4053ae14aa34901af676ab1b24224ba"
       ],
       "layout": "IPY_MODEL_2a7e155fe1a146f798e25066c5e45c76"
      }
     },
     "c15b2f691d7c4e09bf4e72f5c41bafd0": {
      "model_module": "@jupyter-widgets/base",
      "model_module_version": "1.2.0",
      "model_name": "LayoutModel",
      "state": {}
     },
     "ca61e9651d3b4a04a05cf6f692a3cd48": {
      "model_module": "@jupyter-widgets/base",
      "model_module_version": "1.2.0",
      "model_name": "LayoutModel",
      "state": {}
     },
     "cb3ce9f033de4d688acd9087e1118f6c": {
      "model_module": "@jupyter-widgets/controls",
      "model_module_version": "1.5.0",
      "model_name": "TextModel",
      "state": {
       "description": "Param 2",
       "layout": "IPY_MODEL_f66754e594354980bfe715ab7c8bf62e",
       "style": "IPY_MODEL_d340a12ade30413baefe34b07dcd348f"
      }
     },
     "d17693914e41439b9282cf79fb89871e": {
      "model_module": "@jupyter-widgets/base",
      "model_module_version": "1.2.0",
      "model_name": "LayoutModel",
      "state": {}
     },
     "d340a12ade30413baefe34b07dcd348f": {
      "model_module": "@jupyter-widgets/controls",
      "model_module_version": "1.5.0",
      "model_name": "DescriptionStyleModel",
      "state": {
       "description_width": ""
      }
     },
     "d3a41a1866f14d8b857723903e57a322": {
      "model_module": "@jupyter-widgets/base",
      "model_module_version": "1.2.0",
      "model_name": "LayoutModel",
      "state": {
       "grid_template_columns": "repeat(4, 250px)"
      }
     },
     "d4053ae14aa34901af676ab1b24224ba": {
      "model_module": "@jupyter-widgets/controls",
      "model_module_version": "1.5.0",
      "model_name": "FloatSliderModel",
      "state": {
       "description": "$\\alpha$",
       "layout": "IPY_MODEL_19a3a8c42ab24ddda72a5799af6ae85d",
       "max": 1,
       "step": 0.1,
       "style": "IPY_MODEL_4927beb582b3446b8366198d83be9dd0",
       "value": 0.2
      }
     },
     "d42c1b5c257a474181f96ea4f8f5e654": {
      "model_module": "@jupyter-widgets/controls",
      "model_module_version": "1.5.0",
      "model_name": "IntSliderModel",
      "state": {
       "description": "x",
       "layout": "IPY_MODEL_f6ea659e292f4488a90076ab5b7f7e58",
       "max": 10,
       "min": 1,
       "style": "IPY_MODEL_24ad9d633c244e5e875b66bd139c709b",
       "value": 5
      }
     },
     "d47d35e1bb614204a44d0f738c0517b0": {
      "model_module": "@jupyter-widgets/controls",
      "model_module_version": "1.5.0",
      "model_name": "DescriptionStyleModel",
      "state": {
       "description_width": ""
      }
     },
     "dbbeacd99602456da298555e9ec3a32d": {
      "model_module": "@jupyter-widgets/base",
      "model_module_version": "1.2.0",
      "model_name": "LayoutModel",
      "state": {}
     },
     "e580dd6e50f44f5caf899b923f60577a": {
      "model_module": "@jupyter-widgets/base",
      "model_module_version": "1.2.0",
      "model_name": "LayoutModel",
      "state": {}
     },
     "e6cd92996a9a4b46a38163d511fd48fa": {
      "model_module": "@jupyter-widgets/base",
      "model_module_version": "1.2.0",
      "model_name": "LayoutModel",
      "state": {}
     },
     "e7e7db7263a648398a142cc2c2926709": {
      "model_module": "@jupyter-widgets/controls",
      "model_module_version": "1.5.0",
      "model_name": "TextModel",
      "state": {
       "description": "Start Values",
       "layout": "IPY_MODEL_f8a4357f91794b168aff5a094e7f1d58",
       "style": "IPY_MODEL_d47d35e1bb614204a44d0f738c0517b0"
      }
     },
     "e90e24648a224914a5e7c3c3bb6e0a70": {
      "model_module": "@jupyter-widgets/output",
      "model_module_version": "1.0.0",
      "model_name": "OutputModel",
      "state": {
       "layout": "IPY_MODEL_9fc2ff3d3a0c4f2cbd02426316684897",
       "outputs": [
        {
         "name": "stdout",
         "output_type": "stream",
         "text": "10\n"
        }
       ]
      }
     },
     "eb7b1133776447a09783493a763193f4": {
      "model_module": "@jupyter-widgets/controls",
      "model_module_version": "1.5.0",
      "model_name": "TabModel",
      "state": {
       "_titles": {
        "0": "Start Values",
        "1": "Parameter pane 1",
        "2": "Parameter pane 1"
       },
       "children": [
        "IPY_MODEL_fe5081b0bd9c42da9cef57a7fe471563",
        "IPY_MODEL_c07ed0fc2c874cd69d2b099d769945a4",
        "IPY_MODEL_21b59617a9af44608aa1f8e16b541150"
       ],
       "layout": "IPY_MODEL_6b8f178cfa2145d2a1b028b865dcb431"
      }
     },
     "ef76fe43d1054cd7b1e1c6cd1e9f01d8": {
      "model_module": "@jupyter-widgets/controls",
      "model_module_version": "1.5.0",
      "model_name": "VBoxModel",
      "state": {
       "children": [
        "IPY_MODEL_1f395734af014d3d98890a02061bfac8",
        "IPY_MODEL_d4053ae14aa34901af676ab1b24224ba",
        "IPY_MODEL_1774081ce32143a6bc852efb17dff4ec"
       ],
       "layout": "IPY_MODEL_e580dd6e50f44f5caf899b923f60577a"
      }
     },
     "f0969a1fece242168e06c59313d44572": {
      "model_module": "@jupyter-widgets/base",
      "model_module_version": "1.2.0",
      "model_name": "LayoutModel",
      "state": {
       "grid_template_columns": "repeat(4, 250px)"
      }
     },
     "f66754e594354980bfe715ab7c8bf62e": {
      "model_module": "@jupyter-widgets/base",
      "model_module_version": "1.2.0",
      "model_name": "LayoutModel",
      "state": {}
     },
     "f6ea659e292f4488a90076ab5b7f7e58": {
      "model_module": "@jupyter-widgets/base",
      "model_module_version": "1.2.0",
      "model_name": "LayoutModel",
      "state": {}
     },
     "f8a4357f91794b168aff5a094e7f1d58": {
      "model_module": "@jupyter-widgets/base",
      "model_module_version": "1.2.0",
      "model_name": "LayoutModel",
      "state": {}
     },
     "fe003ae2447446f3bf5d4d14d9aea01b": {
      "model_module": "@jupyter-widgets/controls",
      "model_module_version": "1.5.0",
      "model_name": "SliderStyleModel",
      "state": {
       "description_width": ""
      }
     },
     "fe5081b0bd9c42da9cef57a7fe471563": {
      "model_module": "@jupyter-widgets/controls",
      "model_module_version": "1.5.0",
      "model_name": "GridBoxModel",
      "state": {
       "children": [
        "IPY_MODEL_1f395734af014d3d98890a02061bfac8",
        "IPY_MODEL_d4053ae14aa34901af676ab1b24224ba",
        "IPY_MODEL_1774081ce32143a6bc852efb17dff4ec",
        "IPY_MODEL_4d74dc4054024c2bbe3197a4399365b3",
        "IPY_MODEL_bba8459919bc485fac9391f4d30bc616",
        "IPY_MODEL_1ca56e76e8e04698aef0b0d5f18246e6",
        "IPY_MODEL_81c517aa8567481db53489bac959a4a7",
        "IPY_MODEL_d4053ae14aa34901af676ab1b24224ba"
       ],
       "layout": "IPY_MODEL_a35d49d61142443db3cf84ca80b2f9f6"
      }
     }
    },
    "version_major": 2,
    "version_minor": 0
   }
  }
 },
 "nbformat": 4,
 "nbformat_minor": 4
}
